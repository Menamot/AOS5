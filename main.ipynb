{
 "cells": [
  {
   "cell_type": "markdown",
   "source": [
    "First, the scipy.optimize.linprog assume that the LP in the forme:\n",
    "Minimize\n",
    "`c @ x`\n",
    "s.t\n",
    "`A_ub @ x <= b_ub`\n",
    "`A_eq @ x == b_eq`\n",
    "`lb <= x <= ub`"
   ],
   "metadata": {
    "collapsed": false
   },
   "id": "d7cf96176755ea97"
  },
  {
   "cell_type": "markdown",
   "source": [
    "The Chase Paper Company makes paper in rolls of 100 inches width, and the company has a set of orders for rolls of smaller widths:\n",
    "width of final :   45,   36,  31,   14,\n",
    "number of orders:  97,  610,  395,  211,\n",
    "if we define our pattern a.T = (a1,a2,a3,a4) where a1...a4 is the numbers of the small rolls in this pattern a \n",
    "It must satisfy:\n",
    "$45*a_1 + 36*a_2 + 31*a_3 + 14*a_4 ≤ 100$\n",
    "We define x1 is how many times we use pattern a_i\n",
    "So our LP is:\n",
    "$\\min z = x_1 + x_2 + ... + x_r$\n",
    "s.t\n",
    "$a_{11}x_1+a_{12}x_2+...+a_{1r}x_r=97$\n",
    "$a_{21}x_1+a_{22}x_2+...+a_{2r}x_r=610$\n",
    "$a_{31}x_1+a_{32}x_2+...+a_{3r}x_r=395$\n",
    "$a_{41}x_1+a_{42}x_2+...+a_{4r}x_r=211$"
   ],
   "metadata": {
    "collapsed": false
   },
   "id": "1dbd593d9f93cc36"
  },
  {
   "cell_type": "code",
   "execution_count": 13,
   "id": "initial_id",
   "metadata": {
    "collapsed": true,
    "ExecuteTime": {
     "end_time": "2023-12-04T20:43:28.156628800Z",
     "start_time": "2023-12-04T20:43:28.148624100Z"
    }
   },
   "outputs": [],
   "source": [
    "import numpy as np\n",
    "from scipy.optimize import linprog\n",
    "\n",
    "c = np.array([1,1,1,1])\n",
    "A_ub = np.array([[-2,0,0,0],\n",
    "                 [0,-2,0,0],\n",
    "                 [0,0,-3,0],\n",
    "                 [0,0,0,-7]])\n",
    "b_ub = np.array([-97,-610,-395,-211])\n",
    "\n",
    "# res = linprog(c=c,A_ub=A_ub,b_ub=b_ub)\n",
    "# res.fun"
   ]
  },
  {
   "cell_type": "markdown",
   "source": [
    "Our dual problem is:"
   ],
   "metadata": {
    "collapsed": false
   },
   "id": "93a3456b35776e15"
  },
  {
   "cell_type": "code",
   "execution_count": 14,
   "outputs": [
    {
     "data": {
      "text/plain": "array([0.5       , 0.5       , 0.33333333, 0.14285714])"
     },
     "execution_count": 14,
     "metadata": {},
     "output_type": "execute_result"
    }
   ],
   "source": [
    "dual_c = b_ub\n",
    "dual_b = c\n",
    "dual_A = -A_ub.T\n",
    "res_dual = linprog(c=dual_c,A_ub=dual_A,b_ub=dual_b)\n",
    "res_dual.x"
   ],
   "metadata": {
    "collapsed": false,
    "ExecuteTime": {
     "end_time": "2023-12-04T20:43:29.234640500Z",
     "start_time": "2023-12-04T20:43:29.228131500Z"
    }
   },
   "id": "417f83b5ef3374c8"
  },
  {
   "cell_type": "code",
   "execution_count": 3,
   "outputs": [
    {
     "data": {
      "text/plain": "(-1.2857142857142856, array([0., 2., 0., 2.]))"
     },
     "execution_count": 3,
     "metadata": {},
     "output_type": "execute_result"
    }
   ],
   "source": [
    "dual_coef = res_dual.x\n",
    "pi=-dual_coef\n",
    "A=np.array([[45,36,31,14]])\n",
    "b=np.array([100])\n",
    "res = linprog(c=pi,A_ub=A,b_ub=b,integrality=1)\n",
    "res.fun,res.x"
   ],
   "metadata": {
    "collapsed": false,
    "ExecuteTime": {
     "end_time": "2023-12-04T20:29:54.680268500Z",
     "start_time": "2023-12-04T20:29:54.666627600Z"
    }
   },
   "id": "d2c96bad0d21af78"
  },
  {
   "cell_type": "code",
   "execution_count": 4,
   "outputs": [
    {
     "data": {
      "text/plain": "485.16666666666663"
     },
     "execution_count": 4,
     "metadata": {},
     "output_type": "execute_result"
    }
   ],
   "source": [
    "c = np.append(c,1)\n",
    "new_pattern = -res.x[:,np.newaxis]\n",
    "A_ub = np.concatenate((A_ub,new_pattern),axis=1)\n",
    "b_ub = np.array([-97,-610,-395,-211])\n",
    "res = linprog(c=c,A_ub=A_ub,b_ub=b_ub)\n",
    "res.fun"
   ],
   "metadata": {
    "collapsed": false,
    "ExecuteTime": {
     "end_time": "2023-12-04T20:29:54.691051600Z",
     "start_time": "2023-12-04T20:29:54.674370300Z"
    }
   },
   "id": "fbbbd8f0d536157b"
  },
  {
   "cell_type": "code",
   "execution_count": 5,
   "outputs": [],
   "source": [
    "dual_c = b_ub\n",
    "dual_b = c\n",
    "dual_A = -A_ub.T\n",
    "res_dual = linprog(c=dual_c,A_ub=dual_A,b_ub=dual_b)"
   ],
   "metadata": {
    "collapsed": false,
    "ExecuteTime": {
     "end_time": "2023-12-04T20:29:54.691051600Z",
     "start_time": "2023-12-04T20:29:54.681272400Z"
    }
   },
   "id": "c03a743927054413"
  },
  {
   "cell_type": "code",
   "execution_count": 6,
   "outputs": [
    {
     "data": {
      "text/plain": "-485.16666666666663"
     },
     "execution_count": 6,
     "metadata": {},
     "output_type": "execute_result"
    }
   ],
   "source": [
    "res_dual.fun"
   ],
   "metadata": {
    "collapsed": false,
    "ExecuteTime": {
     "end_time": "2023-12-04T20:29:54.756729Z",
     "start_time": "2023-12-04T20:29:54.689051900Z"
    }
   },
   "id": "cad42d41ef7493d8"
  },
  {
   "cell_type": "code",
   "execution_count": 7,
   "outputs": [],
   "source": [
    "dual_coef = res_dual.x\n",
    "\n",
    "pi=-dual_coef\n",
    "A=np.array([[45,36,31,14]])\n",
    "b=np.array([100])\n",
    "res = linprog(c=pi,A_ub=A,b_ub=b,integrality=1)"
   ],
   "metadata": {
    "collapsed": false,
    "ExecuteTime": {
     "end_time": "2023-12-04T20:29:54.756729Z",
     "start_time": "2023-12-04T20:29:54.695312200Z"
    }
   },
   "id": "4e50755ac49f1c5f"
  },
  {
   "cell_type": "code",
   "execution_count": 8,
   "outputs": [
    {
     "data": {
      "text/plain": "(-1.1666666666666665, array([0., 1., 2., 0.]))"
     },
     "execution_count": 8,
     "metadata": {},
     "output_type": "execute_result"
    }
   ],
   "source": [
    "res.fun,res.x"
   ],
   "metadata": {
    "collapsed": false,
    "ExecuteTime": {
     "end_time": "2023-12-04T20:29:54.757729100Z",
     "start_time": "2023-12-04T20:29:54.702242500Z"
    }
   },
   "id": "a99026e541d0fe07"
  },
  {
   "cell_type": "code",
   "execution_count": 9,
   "outputs": [
    {
     "data": {
      "text/plain": "452.25"
     },
     "execution_count": 9,
     "metadata": {},
     "output_type": "execute_result"
    }
   ],
   "source": [
    "c = np.append(c,1)\n",
    "new_pattern = -res.x[:,np.newaxis]\n",
    "A_ub = np.concatenate((A_ub,new_pattern),axis=1)\n",
    "b_ub = np.array([-97,-610,-395,-211])\n",
    "res = linprog(c=c,A_ub=A_ub,b_ub=b_ub)\n",
    "res.fun"
   ],
   "metadata": {
    "collapsed": false,
    "ExecuteTime": {
     "end_time": "2023-12-04T20:29:54.757729100Z",
     "start_time": "2023-12-04T20:29:54.710721400Z"
    }
   },
   "id": "dcbb7b4709fd6d4f"
  },
  {
   "cell_type": "code",
   "execution_count": 10,
   "outputs": [
    {
     "data": {
      "text/plain": "array([ 0.5 ,  0.5 ,  0.25, -0.  ])"
     },
     "execution_count": 10,
     "metadata": {},
     "output_type": "execute_result"
    }
   ],
   "source": [
    "dual_c = b_ub\n",
    "dual_b = c\n",
    "dual_A = -A_ub.T\n",
    "res_dual = linprog(c=dual_c,A_ub=dual_A,b_ub=dual_b)\n",
    "res_dual.x"
   ],
   "metadata": {
    "collapsed": false,
    "ExecuteTime": {
     "end_time": "2023-12-04T20:29:54.758729700Z",
     "start_time": "2023-12-04T20:29:54.717643500Z"
    }
   },
   "id": "ce9a3db033f35771"
  },
  {
   "cell_type": "code",
   "execution_count": 11,
   "outputs": [
    {
     "data": {
      "text/plain": "(-1.0, array([0., 2., 0., 0.]))"
     },
     "execution_count": 11,
     "metadata": {},
     "output_type": "execute_result"
    }
   ],
   "source": [
    "dual_coef = res_dual.x\n",
    "\n",
    "c=-dual_coef\n",
    "A=np.array([[45,36,31,14]])\n",
    "b=np.array([100])\n",
    "res = linprog(c=c,A_ub=A,b_ub=b,integrality=1)\n",
    "res.fun,res.x"
   ],
   "metadata": {
    "collapsed": false,
    "ExecuteTime": {
     "end_time": "2023-12-04T20:29:54.759729Z",
     "start_time": "2023-12-04T20:29:54.725362900Z"
    }
   },
   "id": "f3fb301326319328"
  },
  {
   "cell_type": "code",
   "execution_count": 18,
   "outputs": [
    {
     "name": "stdout",
     "output_type": "stream",
     "text": [
      "-1.2857142857142856 [0. 2. 0. 2.]\n",
      "-1.1666666666666665 [0. 1. 2. 0.]\n",
      "-1.0 [0. 2. 0. 0.]\n"
     ]
    }
   ],
   "source": [
    "import numpy as np\n",
    "from scipy.optimize import linprog\n",
    "\n",
    "c = np.array([1,1,1,1])\n",
    "A_ub = np.array([[-2,0,0,0],\n",
    "                 [0,-2,0,0],\n",
    "                 [0,0,-3,0],\n",
    "                 [0,0,0,-7]])\n",
    "b_ub = np.array([-97,-610,-395,-211])\n",
    "\n",
    "dual_c = b_ub\n",
    "dual_b = c\n",
    "dual_A = -A_ub.T\n",
    "res_dual = linprog(c=dual_c,A_ub=dual_A,b_ub=dual_b)\n",
    "\n",
    "dual_coef = res_dual.x\n",
    "pi=-dual_coef\n",
    "A=np.array([[45,36,31,14]])\n",
    "b=np.array([100])\n",
    "res = linprog(c=pi,A_ub=A,b_ub=b,integrality=1)\n",
    "print(res.fun,res.x)\n",
    "\n",
    "while (res.fun<-1):\n",
    "    c = np.append(c,1)\n",
    "    new_pattern = -res.x[:,np.newaxis]\n",
    "    A_ub = np.concatenate((A_ub,new_pattern),axis=1)\n",
    "    b_ub = np.array([-97,-610,-395,-211])\n",
    "    \n",
    "    dual_c = b_ub\n",
    "    dual_b = c\n",
    "    dual_A = -A_ub.T\n",
    "    res_dual = linprog(c=dual_c,A_ub=dual_A,b_ub=dual_b)\n",
    "    dual_coef = res_dual.x\n",
    "\n",
    "    pi=-dual_coef\n",
    "    A=np.array([[45,36,31,14]])\n",
    "    b=np.array([100])\n",
    "    res = linprog(c=pi,A_ub=A,b_ub=b,integrality=1)\n",
    "    print(res.fun,res.x)"
   ],
   "metadata": {
    "collapsed": false,
    "ExecuteTime": {
     "end_time": "2023-12-04T20:50:12.319443700Z",
     "start_time": "2023-12-04T20:50:12.308493200Z"
    }
   },
   "id": "fa5dd9f85632adb6"
  },
  {
   "cell_type": "code",
   "execution_count": null,
   "outputs": [],
   "source": [],
   "metadata": {
    "collapsed": false
   },
   "id": "a876f00c3bc58769"
  }
 ],
 "metadata": {
  "kernelspec": {
   "display_name": "Python 3",
   "language": "python",
   "name": "python3"
  },
  "language_info": {
   "codemirror_mode": {
    "name": "ipython",
    "version": 2
   },
   "file_extension": ".py",
   "mimetype": "text/x-python",
   "name": "python",
   "nbconvert_exporter": "python",
   "pygments_lexer": "ipython2",
   "version": "2.7.6"
  }
 },
 "nbformat": 4,
 "nbformat_minor": 5
}
